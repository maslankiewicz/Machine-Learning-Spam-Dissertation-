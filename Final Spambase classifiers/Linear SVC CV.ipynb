{
 "cells": [
  {
   "cell_type": "code",
   "execution_count": 2,
   "metadata": {},
   "outputs": [],
   "source": [
    "from sklearn.naive_bayes import MultinomialNB\n",
    "from sklearn.tree import DecisionTreeClassifier\n",
    "import pandas as pd\n",
    "import numpy as np\n",
    "from sklearn.svm import SVC, NuSVC, LinearSVC\n",
    "from sklearn.metrics import hamming_loss\n",
    "from sklearn.naive_bayes import GaussianNB, BernoulliNB\n",
    "from sklearn.metrics import confusion_matrix\n",
    "import itertools\n",
    "import matplotlib.pyplot as plt\n",
    "from sklearn.ensemble import RandomForestClassifier\n",
    "from sklearn.neural_network import MLPClassifier\n",
    "from sklearn.neighbors import KNeighborsClassifier\n",
    "from sklearn.model_selection import cross_val_score\n",
    "from sklearn import svm\n",
    "from sklearn import datasets, linear_model\n",
    "from sklearn.model_selection import cross_validate\n",
    "from sklearn.metrics.scorer import make_scorer\n",
    "from sklearn.metrics import confusion_matrix\n",
    "from sklearn.svm import LinearSVC\n",
    "from sklearn.metrics import accuracy_score\n",
    "from sklearn.metrics import balanced_accuracy_score\n",
    "from sklearn.metrics import f1_score\n",
    "from sklearn.metrics import roc_auc_score\n",
    "from sklearn.metrics import precision_recall_curve\n",
    "from sklearn.metrics import recall_score\n",
    "from sklearn.metrics import precision_score\n",
    "from sklearn.metrics import matthews_corrcoef\n",
    "from sklearn.metrics import hinge_loss"
   ]
  },
  {
   "cell_type": "code",
   "execution_count": 3,
   "metadata": {},
   "outputs": [
    {
     "name": "stderr",
     "output_type": "stream",
     "text": [
      "C:\\Users\\Agniesia\\Anaconda3\\lib\\site-packages\\ipykernel_launcher.py:1: FutureWarning: Method .as_matrix will be removed in a future version. Use .values instead.\n",
      "  \"\"\"Entry point for launching an IPython kernel.\n"
     ]
    }
   ],
   "source": [
    "data = pd.read_csv('spambase.data').as_matrix()"
   ]
  },
  {
   "cell_type": "code",
   "execution_count": 4,
   "metadata": {},
   "outputs": [],
   "source": [
    "np.random.shuffle(data)"
   ]
  },
  {
   "cell_type": "code",
   "execution_count": 5,
   "metadata": {},
   "outputs": [],
   "source": [
    "#48 continuous real [0,100] attributes of type word_freq_WORD \n",
    "X = data[:,:57]\n",
    "#1 nominal {0,1} class attribute of type spam\n",
    "#| = denotes whether the e-mail was considered spam (1) or not (0), \n",
    "#| i.e. unsolicited commercial e-mail.  \n",
    "Y = data[:,-1]"
   ]
  },
  {
   "cell_type": "code",
   "execution_count": 6,
   "metadata": {},
   "outputs": [],
   "source": [
    "#datasplit for training and test\n",
    "X_train = X[:-1380,]\n",
    "Y_train = Y[:-1380,]\n",
    "X_test = X[-1380:,]\n",
    "Y_test = Y[-1380:,]\n"
   ]
  },
  {
   "cell_type": "code",
   "execution_count": 16,
   "metadata": {},
   "outputs": [],
   "source": [
    "clf = SVC(C=1.0, kernel='linear', degree=3, gamma='auto_deprecated', coef0=0.0, shrinking=True, probability=False, tol=0.001, cache_size=200, class_weight=None, verbose=False, max_iter=-1, decision_function_shape='ovr').fit(X_train, Y_train)"
   ]
  },
  {
   "cell_type": "code",
   "execution_count": 17,
   "metadata": {},
   "outputs": [
    {
     "data": {
      "text/plain": [
       "0.9340579710144927"
      ]
     },
     "execution_count": 17,
     "metadata": {},
     "output_type": "execute_result"
    }
   ],
   "source": [
    "clf.score(X_test, Y_test) "
   ]
  },
  {
   "cell_type": "code",
   "execution_count": 18,
   "metadata": {},
   "outputs": [],
   "source": [
    "scoring = {'accuracy':make_scorer(accuracy_score),'f1_score':make_scorer(f1_score),'precision_score':make_scorer(precision_score),'recall_score':make_scorer(recall_score),'roc_auc_score':make_scorer(roc_auc_score),'matthews_corrcoef':make_scorer(matthews_corrcoef),'hinge_loss':make_scorer(hinge_loss)}\n",
    "cv_results = cross_validate(clf, X, Y, cv=10, scoring =scoring,\n",
    "                         return_train_score=False)"
   ]
  },
  {
   "cell_type": "code",
   "execution_count": 19,
   "metadata": {},
   "outputs": [
    {
     "data": {
      "text/plain": [
       "{'fit_time': array([ 679.0484004 ,  435.52601671, 1071.03475952,  265.31439924,\n",
       "         409.70528674,  155.7479713 ,  192.02021956,  619.04513526,\n",
       "         313.92728162,  212.35306692]),\n",
       " 'score_time': array([0.26938629, 0.28007627, 0.12487054, 0.11995578, 0.1476903 ,\n",
       "        0.14660811, 0.15757799, 0.13786221, 0.15214276, 0.14607215]),\n",
       " 'test_accuracy': array([0.9175705 , 0.9132321 , 0.93043478, 0.92826087, 0.95217391,\n",
       "        0.92608696, 0.9326087 , 0.93913043, 0.92810458, 0.93246187]),\n",
       " 'test_f1_score': array([0.89204545, 0.88950276, 0.90909091, 0.90909091, 0.93922652,\n",
       "        0.90710383, 0.91267606, 0.92178771, 0.90544413, 0.9121813 ]),\n",
       " 'test_precision_score': array([0.92352941, 0.89444444, 0.93567251, 0.90659341, 0.93922652,\n",
       "        0.8972973 , 0.93103448, 0.93220339, 0.94047619, 0.93604651]),\n",
       " 'test_recall_score': array([0.86263736, 0.88461538, 0.8839779 , 0.91160221, 0.93922652,\n",
       "        0.91712707, 0.89502762, 0.91160221, 0.87292818, 0.88950276]),\n",
       " 'test_roc_auc_score': array([0.90802119, 0.90825751, 0.92227569, 0.92533516, 0.9499    ,\n",
       "        0.92451336, 0.92600844, 0.93429573, 0.91847848, 0.92496721]),\n",
       " 'test_matthews_corrcoef': array([0.82676019, 0.81811163, 0.85372989, 0.84985449, 0.8998    ,\n",
       "        0.84588346, 0.85828583, 0.8721217 , 0.84910945, 0.85810796]),\n",
       " 'test_hinge_loss': array([0.68763557, 0.69197397, 0.67608696, 0.67826087, 0.65434783,\n",
       "        0.68043478, 0.67391304, 0.6673913 , 0.67755991, 0.67320261])}"
      ]
     },
     "execution_count": 19,
     "metadata": {},
     "output_type": "execute_result"
    }
   ],
   "source": [
    "cv_results"
   ]
  },
  {
   "cell_type": "code",
   "execution_count": null,
   "metadata": {},
   "outputs": [],
   "source": []
  }
 ],
 "metadata": {
  "kernelspec": {
   "display_name": "Python 3",
   "language": "python",
   "name": "python3"
  },
  "language_info": {
   "codemirror_mode": {
    "name": "ipython",
    "version": 3
   },
   "file_extension": ".py",
   "mimetype": "text/x-python",
   "name": "python",
   "nbconvert_exporter": "python",
   "pygments_lexer": "ipython3",
   "version": "3.7.0"
  }
 },
 "nbformat": 4,
 "nbformat_minor": 2
}

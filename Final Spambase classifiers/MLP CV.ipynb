{
 "cells": [
  {
   "cell_type": "code",
   "execution_count": 1,
   "metadata": {},
   "outputs": [],
   "source": [
    "from sklearn.naive_bayes import MultinomialNB\n",
    "from sklearn.tree import DecisionTreeClassifier\n",
    "import pandas as pd\n",
    "import numpy as np\n",
    "from sklearn.svm import SVC, NuSVC, LinearSVC\n",
    "from sklearn.metrics import hamming_loss\n",
    "from sklearn.naive_bayes import GaussianNB, BernoulliNB\n",
    "from sklearn.metrics import confusion_matrix\n",
    "import itertools\n",
    "import matplotlib.pyplot as plt\n",
    "from sklearn.ensemble import RandomForestClassifier\n",
    "from sklearn.neural_network import MLPClassifier\n",
    "from sklearn.neighbors import KNeighborsClassifier\n",
    "from sklearn.model_selection import cross_val_score\n",
    "from sklearn import svm\n",
    "from sklearn import datasets, linear_model\n",
    "from sklearn.model_selection import cross_validate\n",
    "from sklearn.metrics.scorer import make_scorer\n",
    "from sklearn.metrics import confusion_matrix\n",
    "from sklearn.svm import LinearSVC\n",
    "from sklearn.metrics import accuracy_score\n",
    "from sklearn.metrics import balanced_accuracy_score\n",
    "from sklearn.metrics import f1_score\n",
    "from sklearn.metrics import roc_auc_score\n",
    "from sklearn.metrics import precision_recall_curve\n",
    "from sklearn.metrics import recall_score\n",
    "from sklearn.metrics import precision_score\n",
    "from sklearn.metrics import matthews_corrcoef\n",
    "from sklearn.metrics import hinge_loss"
   ]
  },
  {
   "cell_type": "code",
   "execution_count": 2,
   "metadata": {},
   "outputs": [
    {
     "name": "stderr",
     "output_type": "stream",
     "text": [
      "C:\\Users\\Agniesia\\Anaconda3\\lib\\site-packages\\ipykernel_launcher.py:1: FutureWarning: Method .as_matrix will be removed in a future version. Use .values instead.\n",
      "  \"\"\"Entry point for launching an IPython kernel.\n"
     ]
    }
   ],
   "source": [
    "data = pd.read_csv('spambase.data').as_matrix()"
   ]
  },
  {
   "cell_type": "code",
   "execution_count": 3,
   "metadata": {},
   "outputs": [],
   "source": [
    "np.random.shuffle(data)"
   ]
  },
  {
   "cell_type": "code",
   "execution_count": 4,
   "metadata": {},
   "outputs": [],
   "source": [
    "#48 continuous real [0,100] attributes of type word_freq_WORD \n",
    "X = data[:,:57]\n",
    "#1 nominal {0,1} class attribute of type spam\n",
    "#| = denotes whether the e-mail was considered spam (1) or not (0), \n",
    "#| i.e. unsolicited commercial e-mail.  \n",
    "Y = data[:,-1]"
   ]
  },
  {
   "cell_type": "code",
   "execution_count": 5,
   "metadata": {},
   "outputs": [],
   "source": [
    "#datasplit for training and test\n",
    "X_train = X[:-1380,]\n",
    "Y_train = Y[:-1380,]\n",
    "X_test = X[-1380:,]\n",
    "Y_test = Y[-1380:,]\n"
   ]
  },
  {
   "cell_type": "code",
   "execution_count": 29,
   "metadata": {},
   "outputs": [],
   "source": [
    "clf = MLPClassifier(hidden_layer_sizes=(100,),activation='logistic',solver='adam',learning_rate='constant',power_t=0.5,max_iter=500).fit(X_train, Y_train)"
   ]
  },
  {
   "cell_type": "code",
   "execution_count": 30,
   "metadata": {},
   "outputs": [
    {
     "data": {
      "text/plain": [
       "0.946376811594203"
      ]
     },
     "execution_count": 30,
     "metadata": {},
     "output_type": "execute_result"
    }
   ],
   "source": [
    "clf.score(X_test, Y_test) "
   ]
  },
  {
   "cell_type": "code",
   "execution_count": 33,
   "metadata": {},
   "outputs": [],
   "source": [
    "scoring = {'accuracy':make_scorer(accuracy_score),'f1_score':make_scorer(f1_score),'precision_score':make_scorer(precision_score),'recall_score':make_scorer(recall_score),'roc_auc_score':make_scorer(roc_auc_score),'matthews_corrcoef':make_scorer(matthews_corrcoef),'hinge_loss':make_scorer(hinge_loss)}\n",
    "cv_results = cross_validate(clf, X, Y, cv=10, scoring =scoring,\n",
    "                         return_train_score=False)"
   ]
  },
  {
   "cell_type": "code",
   "execution_count": 34,
   "metadata": {},
   "outputs": [
    {
     "data": {
      "text/plain": [
       "{'fit_time': array([ 7.42970347, 13.73138928,  9.28199816,  6.70725393,  8.05063033,\n",
       "        12.53365183,  2.33669734,  9.31625748,  6.0933187 ,  8.4117651 ]),\n",
       " 'score_time': array([0.02051187, 0.02011752, 0.02050591, 0.01020861, 0.01572561,\n",
       "        0.01976871, 0.01913524, 0.01885533, 0.02353191, 0.01754665]),\n",
       " 'test_accuracy': array([0.95227766, 0.93709328, 0.93478261, 0.91956522, 0.94565217,\n",
       "        0.9673913 , 0.9326087 , 0.96521739, 0.94771242, 0.93246187]),\n",
       " 'test_f1_score': array([0.94054054, 0.92054795, 0.91620112, 0.90237467, 0.93150685,\n",
       "        0.95821727, 0.91364903, 0.95454545, 0.93406593, 0.91598916]),\n",
       " 'test_precision_score': array([0.92553191, 0.91803279, 0.92655367, 0.86363636, 0.92391304,\n",
       "        0.96629213, 0.92134831, 0.98245614, 0.92896175, 0.89893617]),\n",
       " 'test_recall_score': array([0.95604396, 0.92307692, 0.90607735, 0.94475138, 0.93922652,\n",
       "        0.95027624, 0.90607735, 0.9281768 , 0.93922652, 0.93370166]),\n",
       " 'test_roc_auc_score': array([0.95293237, 0.93465674, 0.92974118, 0.92398859, 0.94452365,\n",
       "        0.96438543, 0.92794907, 0.95871205, 0.94623196, 0.93267817]),\n",
       " 'test_matthews_corrcoef': array([0.90103343, 0.86849289, 0.86297558, 0.83664711, 0.88654913,\n",
       "        0.93156984, 0.8584775 , 0.9273946 , 0.89078372, 0.85998939]),\n",
       " 'test_hinge_loss': array([0.65292842, 0.6681128 , 0.67173913, 0.68695652, 0.66086957,\n",
       "        0.63913043, 0.67391304, 0.64130435, 0.65795207, 0.67320261])}"
      ]
     },
     "execution_count": 34,
     "metadata": {},
     "output_type": "execute_result"
    }
   ],
   "source": [
    "cv_results"
   ]
  },
  {
   "cell_type": "code",
   "execution_count": null,
   "metadata": {},
   "outputs": [],
   "source": []
  }
 ],
 "metadata": {
  "kernelspec": {
   "display_name": "Python 3",
   "language": "python",
   "name": "python3"
  },
  "language_info": {
   "codemirror_mode": {
    "name": "ipython",
    "version": 3
   },
   "file_extension": ".py",
   "mimetype": "text/x-python",
   "name": "python",
   "nbconvert_exporter": "python",
   "pygments_lexer": "ipython3",
   "version": "3.7.0"
  }
 },
 "nbformat": 4,
 "nbformat_minor": 2
}

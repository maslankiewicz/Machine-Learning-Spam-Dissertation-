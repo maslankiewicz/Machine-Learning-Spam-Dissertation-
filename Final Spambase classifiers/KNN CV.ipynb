{
 "cells": [
  {
   "cell_type": "code",
   "execution_count": 2,
   "metadata": {},
   "outputs": [],
   "source": [
    "from sklearn.naive_bayes import MultinomialNB\n",
    "from sklearn.tree import DecisionTreeClassifier\n",
    "import pandas as pd\n",
    "import numpy as np\n",
    "from sklearn.svm import SVC, NuSVC, LinearSVC\n",
    "from sklearn.metrics import hamming_loss\n",
    "from sklearn.naive_bayes import GaussianNB, BernoulliNB\n",
    "from sklearn.metrics import confusion_matrix\n",
    "import itertools\n",
    "import matplotlib.pyplot as plt\n",
    "from sklearn.ensemble import RandomForestClassifier\n",
    "from sklearn.neural_network import MLPClassifier\n",
    "from sklearn.neighbors import KNeighborsClassifier\n",
    "from sklearn.model_selection import cross_val_score\n",
    "from sklearn import svm\n",
    "from sklearn import datasets, linear_model\n",
    "from sklearn.model_selection import cross_validate\n",
    "from sklearn.metrics.scorer import make_scorer\n",
    "from sklearn.metrics import confusion_matrix\n",
    "from sklearn.svm import LinearSVC\n",
    "from sklearn.metrics import accuracy_score\n",
    "from sklearn.metrics import balanced_accuracy_score\n",
    "from sklearn.metrics import f1_score\n",
    "from sklearn.metrics import roc_auc_score\n",
    "from sklearn.metrics import precision_recall_curve\n",
    "from sklearn.metrics import recall_score\n",
    "from sklearn.metrics import precision_score\n",
    "from sklearn.metrics import matthews_corrcoef\n",
    "from sklearn.metrics import hinge_loss"
   ]
  },
  {
   "cell_type": "code",
   "execution_count": 3,
   "metadata": {},
   "outputs": [
    {
     "name": "stderr",
     "output_type": "stream",
     "text": [
      "C:\\Users\\Agniesia\\Anaconda3\\lib\\site-packages\\ipykernel_launcher.py:1: FutureWarning: Method .as_matrix will be removed in a future version. Use .values instead.\n",
      "  \"\"\"Entry point for launching an IPython kernel.\n"
     ]
    }
   ],
   "source": [
    "data = pd.read_csv('spambase.data').as_matrix()"
   ]
  },
  {
   "cell_type": "code",
   "execution_count": 4,
   "metadata": {},
   "outputs": [],
   "source": [
    "np.random.shuffle(data)"
   ]
  },
  {
   "cell_type": "code",
   "execution_count": 5,
   "metadata": {},
   "outputs": [],
   "source": [
    "#48 continuous real [0,100] attributes of type word_freq_WORD \n",
    "X = data[:,:57]\n",
    "#1 nominal {0,1} class attribute of type spam\n",
    "#| = denotes whether the e-mail was considered spam (1) or not (0), \n",
    "#| i.e. unsolicited commercial e-mail.  \n",
    "Y = data[:,-1]"
   ]
  },
  {
   "cell_type": "code",
   "execution_count": 6,
   "metadata": {},
   "outputs": [],
   "source": [
    "#datasplit for training and test\n",
    "X_train = X[:-1380,]\n",
    "Y_train = Y[:-1380,]\n",
    "X_test = X[-1380:,]\n",
    "Y_test = Y[-1380:,]\n"
   ]
  },
  {
   "cell_type": "code",
   "execution_count": 11,
   "metadata": {},
   "outputs": [],
   "source": [
    "clf = KNeighborsClassifier(n_neighbors=5, weights='distance',algorithm='auto',leaf_size=1,p=1).fit(X_train, Y_train)"
   ]
  },
  {
   "cell_type": "code",
   "execution_count": 12,
   "metadata": {},
   "outputs": [
    {
     "data": {
      "text/plain": [
       "0.8420289855072464"
      ]
     },
     "execution_count": 12,
     "metadata": {},
     "output_type": "execute_result"
    }
   ],
   "source": [
    "clf.score(X_test, Y_test) "
   ]
  },
  {
   "cell_type": "code",
   "execution_count": 13,
   "metadata": {},
   "outputs": [],
   "source": [
    "scoring = {'accuracy':make_scorer(accuracy_score),'f1_score':make_scorer(f1_score),'precision_score':make_scorer(precision_score),'recall_score':make_scorer(recall_score),'roc_auc_score':make_scorer(roc_auc_score),'matthews_corrcoef':make_scorer(matthews_corrcoef),'hinge_loss':make_scorer(hinge_loss)}\n",
    "cv_results = cross_validate(clf, X, Y, cv=10, scoring =scoring,\n",
    "                         return_train_score=False)"
   ]
  },
  {
   "cell_type": "code",
   "execution_count": 14,
   "metadata": {},
   "outputs": [
    {
     "data": {
      "text/plain": [
       "{'fit_time': array([0.03520393, 0.03783703, 0.04415751, 0.04312277, 0.04099226,\n",
       "        0.05231738, 0.04751396, 0.05299807, 0.04662657, 0.04788685]),\n",
       " 'score_time': array([0.47571278, 0.42634511, 0.42268014, 0.42165685, 0.44086289,\n",
       "        0.40083051, 0.44096994, 0.4028616 , 0.40013719, 0.44953775]),\n",
       " 'test_accuracy': array([0.85683297, 0.89154013, 0.85434783, 0.86521739, 0.87826087,\n",
       "        0.86086957, 0.86304348, 0.87173913, 0.8540305 , 0.84313725]),\n",
       " 'test_f1_score': array([0.81355932, 0.86631016, 0.8101983 , 0.82967033, 0.84269663,\n",
       "        0.82608696, 0.81948424, 0.83835616, 0.81126761, 0.79545455]),\n",
       " 'test_precision_score': array([0.8372093 , 0.84375   , 0.83139535, 0.82513661, 0.85714286,\n",
       "        0.81283422, 0.85119048, 0.83152174, 0.82758621, 0.81871345]),\n",
       " 'test_recall_score': array([0.79120879, 0.89010989, 0.79005525, 0.83425414, 0.82872928,\n",
       "        0.83977901, 0.79005525, 0.84530387, 0.79558011, 0.77348066]),\n",
       " 'test_roc_auc_score': array([0.84542518, 0.8912915 , 0.8430563 , 0.8597794 , 0.86956177,\n",
       "        0.85716549, 0.85022476, 0.86709638, 0.84383322, 0.83098494]),\n",
       " 'test_matthews_corrcoef': array([0.6982463 , 0.77596379, 0.69274965, 0.71819479, 0.74373286,\n",
       "        0.71045855, 0.71067684, 0.73212971, 0.69269565, 0.66912246]),\n",
       " 'test_hinge_loss': array([0.7483731 , 0.71366594, 0.75217391, 0.74130435, 0.72826087,\n",
       "        0.74565217, 0.74347826, 0.73478261, 0.75163399, 0.76252723])}"
      ]
     },
     "execution_count": 14,
     "metadata": {},
     "output_type": "execute_result"
    }
   ],
   "source": [
    "cv_results"
   ]
  },
  {
   "cell_type": "code",
   "execution_count": null,
   "metadata": {},
   "outputs": [],
   "source": []
  }
 ],
 "metadata": {
  "kernelspec": {
   "display_name": "Python 3",
   "language": "python",
   "name": "python3"
  },
  "language_info": {
   "codemirror_mode": {
    "name": "ipython",
    "version": 3
   },
   "file_extension": ".py",
   "mimetype": "text/x-python",
   "name": "python",
   "nbconvert_exporter": "python",
   "pygments_lexer": "ipython3",
   "version": "3.7.0"
  }
 },
 "nbformat": 4,
 "nbformat_minor": 2
}

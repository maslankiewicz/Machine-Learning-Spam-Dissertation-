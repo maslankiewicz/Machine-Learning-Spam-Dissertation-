{
 "cells": [
  {
   "cell_type": "code",
   "execution_count": 2,
   "metadata": {},
   "outputs": [],
   "source": [
    "from sklearn.naive_bayes import MultinomialNB\n",
    "from sklearn.tree import DecisionTreeClassifier\n",
    "import pandas as pd\n",
    "import numpy as np\n",
    "from sklearn.svm import SVC, NuSVC, LinearSVC\n",
    "from sklearn.metrics import hamming_loss\n",
    "from sklearn.naive_bayes import GaussianNB, BernoulliNB\n",
    "from sklearn.metrics import confusion_matrix\n",
    "import itertools\n",
    "import matplotlib.pyplot as plt\n",
    "from sklearn.ensemble import RandomForestClassifier\n",
    "from sklearn.neural_network import MLPClassifier\n",
    "from sklearn.neighbors import KNeighborsClassifier\n",
    "from sklearn.model_selection import cross_val_score\n",
    "from sklearn import svm\n",
    "from sklearn import datasets, linear_model\n",
    "from sklearn.model_selection import cross_validate\n",
    "from sklearn.metrics.scorer import make_scorer\n",
    "from sklearn.metrics import confusion_matrix\n",
    "from sklearn.svm import LinearSVC\n",
    "from sklearn.metrics import accuracy_score\n",
    "from sklearn.metrics import balanced_accuracy_score\n",
    "from sklearn.metrics import f1_score\n",
    "from sklearn.metrics import roc_auc_score\n",
    "from sklearn.metrics import precision_recall_curve\n",
    "from sklearn.metrics import recall_score\n",
    "from sklearn.metrics import precision_score\n",
    "from sklearn.metrics import matthews_corrcoef\n",
    "from sklearn.metrics import hinge_loss"
   ]
  },
  {
   "cell_type": "code",
   "execution_count": 3,
   "metadata": {},
   "outputs": [
    {
     "data": {
      "text/plain": [
       "'C:\\\\Users\\\\Agniesia'"
      ]
     },
     "execution_count": 3,
     "metadata": {},
     "output_type": "execute_result"
    }
   ],
   "source": [
    "import os\n",
    "import glob\n",
    "import pandas as pd\n",
    "path = 'C:\\\\Users\\\\Agniesia\\\\phishingdata'\n",
    "retval = os.getcwd()\n",
    "retval"
   ]
  },
  {
   "cell_type": "code",
   "execution_count": 4,
   "metadata": {},
   "outputs": [],
   "source": [
    "os.chdir(path)"
   ]
  },
  {
   "cell_type": "code",
   "execution_count": 5,
   "metadata": {},
   "outputs": [],
   "source": [
    "extension = 'csv'\n",
    "all_filenames = [i for i in glob.glob('*.{}'.format(extension))]\n"
   ]
  },
  {
   "cell_type": "code",
   "execution_count": 6,
   "metadata": {},
   "outputs": [],
   "source": [
    "combined_csv = pd.concat([pd.read_csv(f) for f in all_filenames ])\n",
    "#export to csv\n",
    "combined_csv.to_csv( \"combined_csv.csv\", index=False, encoding='utf-8-sig')"
   ]
  },
  {
   "cell_type": "code",
   "execution_count": 13,
   "metadata": {},
   "outputs": [
    {
     "data": {
      "text/html": [
       "<div>\n",
       "<style scoped>\n",
       "    .dataframe tbody tr th:only-of-type {\n",
       "        vertical-align: middle;\n",
       "    }\n",
       "\n",
       "    .dataframe tbody tr th {\n",
       "        vertical-align: top;\n",
       "    }\n",
       "\n",
       "    .dataframe thead th {\n",
       "        text-align: right;\n",
       "    }\n",
       "</style>\n",
       "<table border=\"1\" class=\"dataframe\">\n",
       "  <thead>\n",
       "    <tr style=\"text-align: right;\">\n",
       "      <th></th>\n",
       "      <th>Unnamed: 0</th>\n",
       "      <th>@ in URLs</th>\n",
       "      <th>Attachments</th>\n",
       "      <th>Css</th>\n",
       "      <th>Encoding</th>\n",
       "      <th>External Resources</th>\n",
       "      <th>Flash content</th>\n",
       "      <th>HTML content</th>\n",
       "      <th>Html Form</th>\n",
       "      <th>Html iFrame</th>\n",
       "      <th>IPs in URLs</th>\n",
       "      <th>Javascript</th>\n",
       "      <th>Phishy</th>\n",
       "      <th>URLs</th>\n",
       "    </tr>\n",
       "  </thead>\n",
       "  <tbody>\n",
       "    <tr>\n",
       "      <th>0</th>\n",
       "      <td>0</td>\n",
       "      <td>False</td>\n",
       "      <td>0</td>\n",
       "      <td>0</td>\n",
       "      <td>7bit</td>\n",
       "      <td>0</td>\n",
       "      <td>False</td>\n",
       "      <td>False</td>\n",
       "      <td>False</td>\n",
       "      <td>False</td>\n",
       "      <td>False</td>\n",
       "      <td>0</td>\n",
       "      <td>False</td>\n",
       "      <td>0</td>\n",
       "    </tr>\n",
       "    <tr>\n",
       "      <th>1</th>\n",
       "      <td>1</td>\n",
       "      <td>False</td>\n",
       "      <td>0</td>\n",
       "      <td>0</td>\n",
       "      <td>7bit</td>\n",
       "      <td>0</td>\n",
       "      <td>False</td>\n",
       "      <td>False</td>\n",
       "      <td>False</td>\n",
       "      <td>False</td>\n",
       "      <td>False</td>\n",
       "      <td>0</td>\n",
       "      <td>False</td>\n",
       "      <td>0</td>\n",
       "    </tr>\n",
       "    <tr>\n",
       "      <th>2</th>\n",
       "      <td>2</td>\n",
       "      <td>False</td>\n",
       "      <td>0</td>\n",
       "      <td>0</td>\n",
       "      <td>7bit</td>\n",
       "      <td>0</td>\n",
       "      <td>False</td>\n",
       "      <td>False</td>\n",
       "      <td>False</td>\n",
       "      <td>False</td>\n",
       "      <td>False</td>\n",
       "      <td>0</td>\n",
       "      <td>False</td>\n",
       "      <td>0</td>\n",
       "    </tr>\n",
       "    <tr>\n",
       "      <th>3</th>\n",
       "      <td>3</td>\n",
       "      <td>False</td>\n",
       "      <td>0</td>\n",
       "      <td>0</td>\n",
       "      <td>7bit</td>\n",
       "      <td>0</td>\n",
       "      <td>False</td>\n",
       "      <td>False</td>\n",
       "      <td>False</td>\n",
       "      <td>False</td>\n",
       "      <td>False</td>\n",
       "      <td>0</td>\n",
       "      <td>False</td>\n",
       "      <td>0</td>\n",
       "    </tr>\n",
       "    <tr>\n",
       "      <th>4</th>\n",
       "      <td>4</td>\n",
       "      <td>False</td>\n",
       "      <td>0</td>\n",
       "      <td>0</td>\n",
       "      <td>quoted-printable</td>\n",
       "      <td>0</td>\n",
       "      <td>False</td>\n",
       "      <td>False</td>\n",
       "      <td>False</td>\n",
       "      <td>False</td>\n",
       "      <td>False</td>\n",
       "      <td>0</td>\n",
       "      <td>False</td>\n",
       "      <td>0</td>\n",
       "    </tr>\n",
       "  </tbody>\n",
       "</table>\n",
       "</div>"
      ],
      "text/plain": [
       "   Unnamed: 0  @ in URLs  Attachments  Css          Encoding  \\\n",
       "0           0      False            0    0              7bit   \n",
       "1           1      False            0    0              7bit   \n",
       "2           2      False            0    0              7bit   \n",
       "3           3      False            0    0              7bit   \n",
       "4           4      False            0    0  quoted-printable   \n",
       "\n",
       "   External Resources  Flash content  HTML content  Html Form  Html iFrame  \\\n",
       "0                   0          False         False      False        False   \n",
       "1                   0          False         False      False        False   \n",
       "2                   0          False         False      False        False   \n",
       "3                   0          False         False      False        False   \n",
       "4                   0          False         False      False        False   \n",
       "\n",
       "   IPs in URLs  Javascript  Phishy  URLs  \n",
       "0        False           0   False     0  \n",
       "1        False           0   False     0  \n",
       "2        False           0   False     0  \n",
       "3        False           0   False     0  \n",
       "4        False           0   False     0  "
      ]
     },
     "execution_count": 13,
     "metadata": {},
     "output_type": "execute_result"
    }
   ],
   "source": [
    "dataset = pd.read_csv('phishingdata.csv')\n",
    "dataset.head()"
   ]
  },
  {
   "cell_type": "code",
   "execution_count": 90,
   "metadata": {},
   "outputs": [],
   "source": [
    "feature_columns = ['@ in URLs','Attachments','Css','External Resources','Flash content','HTML content','Html Form','Html iFrame','IPs in URLs','Javascript','URLs']\n",
    "X = dataset.loc[:, feature_columns]\n",
    "Y = dataset['Phishy']"
   ]
  },
  {
   "cell_type": "code",
   "execution_count": 91,
   "metadata": {},
   "outputs": [],
   "source": [
    "spam_dataset = dataset[dataset['Phishy']== True]\n",
    "legit_dataset = dataset[dataset['Phishy']==False]"
   ]
  },
  {
   "cell_type": "code",
   "execution_count": 92,
   "metadata": {},
   "outputs": [
    {
     "data": {
      "text/plain": [
       "(4512, 11)"
      ]
     },
     "execution_count": 92,
     "metadata": {},
     "output_type": "execute_result"
    }
   ],
   "source": [
    "X.shape"
   ]
  },
  {
   "cell_type": "code",
   "execution_count": 93,
   "metadata": {},
   "outputs": [
    {
     "data": {
      "text/plain": [
       "(4512,)"
      ]
     },
     "execution_count": 93,
     "metadata": {},
     "output_type": "execute_result"
    }
   ],
   "source": [
    "Y.shape"
   ]
  },
  {
   "cell_type": "code",
   "execution_count": 94,
   "metadata": {},
   "outputs": [],
   "source": [
    "from sklearn.model_selection import train_test_split, KFold, cross_val_score\n",
    "scoring = {'accuracy':make_scorer(accuracy_score),'f1_score':make_scorer(f1_score),'precision_score':make_scorer(precision_score),'recall_score':make_scorer(recall_score),'roc_auc_score':make_scorer(roc_auc_score),'matthews_corrcoef':make_scorer(matthews_corrcoef),'hinge_loss':make_scorer(hinge_loss)}\n",
    "n_folds = 10\n",
    "def score_cv(model):\n",
    "    kf = KFold(n_folds, shuffle = True, random_state = 29).get_n_splits(X)\n",
    "    cv = cross_validate(model, X, Y, scoring = scoring, cv = kf,return_train_score=False)\n",
    "    return (cv)"
   ]
  },
  {
   "cell_type": "code",
   "execution_count": 95,
   "metadata": {},
   "outputs": [
    {
     "data": {
      "text/plain": [
       "{'fit_time': array([0.03104138, 0.02004409, 0.02258372, 0.0229907 , 0.02052522,\n",
       "        0.02007031, 0.01843214, 0.01914191, 0.01518297, 0.01825809]),\n",
       " 'score_time': array([0.63254929, 0.60432911, 0.64859176, 0.47669959, 0.42272615,\n",
       "        0.39644599, 0.46461368, 0.51691198, 0.56612682, 0.59450054]),\n",
       " 'test_accuracy': array([0.98672566, 0.70132743, 0.99778761, 0.93584071, 0.93584071,\n",
       "        0.85619469, 0.88      , 0.85555556, 0.96222222, 0.93555556]),\n",
       " 'test_f1_score': array([0.98654709, 0.57943925, 0.99778271, 0.93816631, 0.93868922,\n",
       "        0.8463357 , 0.88842975, 0.84337349, 0.96296296, 0.93208431]),\n",
       " 'test_precision_score': array([1.        , 0.97894737, 1.        , 0.90534979, 0.89878543,\n",
       "        0.90862944, 0.83011583, 0.92105263, 0.94444444, 0.98514851]),\n",
       " 'test_recall_score': array([0.97345133, 0.41150442, 0.99557522, 0.97345133, 0.98230088,\n",
       "        0.7920354 , 0.95555556, 0.77777778, 0.98222222, 0.88444444]),\n",
       " 'test_roc_auc_score': array([0.98672566, 0.70132743, 0.99778761, 0.93584071, 0.93584071,\n",
       "        0.85619469, 0.88      , 0.85555556, 0.96222222, 0.93555556]),\n",
       " 'test_matthews_corrcoef': array([0.97379457, 0.49413485, 0.99558497, 0.87415802, 0.87546909,\n",
       "        0.7183278 , 0.76882863, 0.71987403, 0.92518489, 0.87569838]),\n",
       " 'test_hinge_loss': array([0.51327434, 0.79867257, 0.50221239, 0.56415929, 0.56415929,\n",
       "        0.64380531, 0.62      , 0.64444444, 0.53777778, 0.56444444])}"
      ]
     },
     "execution_count": 95,
     "metadata": {},
     "output_type": "execute_result"
    }
   ],
   "source": [
    "KNN = KNeighborsClassifier(n_neighbors=5, weights='distance',algorithm='auto',leaf_size=1,p=1)\n",
    "score_cv(KNN)"
   ]
  },
  {
   "cell_type": "code",
   "execution_count": 96,
   "metadata": {},
   "outputs": [
    {
     "data": {
      "text/plain": [
       "{'fit_time': array([0.5213182 , 0.5275867 , 0.53219962, 0.55094838, 0.63074756,\n",
       "        0.55875516, 0.52728057, 0.53648686, 0.50568509, 0.51222253]),\n",
       " 'score_time': array([0.28664804, 0.26469898, 0.26884151, 0.28860354, 0.3447504 ,\n",
       "        0.29876757, 0.30320215, 0.27493811, 0.27834773, 0.27258372]),\n",
       " 'test_accuracy': array([0.99115044, 0.98672566, 0.99778761, 0.94026549, 0.9380531 ,\n",
       "        0.93362832, 0.88444444, 0.93777778, 0.96444444, 0.97777778]),\n",
       " 'test_f1_score': array([0.99107143, 0.98666667, 0.99778271, 0.9424307 , 0.94067797,\n",
       "        0.93697479, 0.89256198, 0.93832599, 0.96521739, 0.97807018]),\n",
       " 'test_precision_score': array([1.        , 0.99107143, 1.        , 0.90946502, 0.90243902,\n",
       "        0.892     , 0.83397683, 0.930131  , 0.94468085, 0.96536797]),\n",
       " 'test_recall_score': array([0.98230088, 0.98230088, 0.99557522, 0.97787611, 0.98230088,\n",
       "        0.98672566, 0.96      , 0.94666667, 0.98666667, 0.99111111]),\n",
       " 'test_roc_auc_score': array([0.99115044, 0.98672566, 0.99778761, 0.94026549, 0.9380531 ,\n",
       "        0.93362832, 0.88444444, 0.93777778, 0.96444444, 0.97777778]),\n",
       " 'test_matthews_corrcoef': array([0.98245478, 0.97348945, 0.99558497, 0.88303272, 0.87955708,\n",
       "        0.87218855, 0.77782077, 0.87569395, 0.92980767, 0.95589549]),\n",
       " 'test_hinge_loss': array([0.50884956, 0.51327434, 0.50221239, 0.55973451, 0.5619469 ,\n",
       "        0.56637168, 0.61555556, 0.56222222, 0.53555556, 0.52222222])}"
      ]
     },
     "execution_count": 96,
     "metadata": {},
     "output_type": "execute_result"
    }
   ],
   "source": [
    "RF = RandomForestClassifier(bootstrap=True, class_weight=None, criterion='gini',\n",
    "            max_depth=58, max_features='auto', max_leaf_nodes=None,\n",
    "            min_impurity_decrease=0.0, min_impurity_split=None,\n",
    "            min_samples_leaf=1, min_samples_split=2,\n",
    "            min_weight_fraction_leaf=0.0, n_estimators=200, n_jobs=None,\n",
    "            oob_score=False, random_state=0, verbose=0, warm_start=False)\n",
    "score_cv(RF)"
   ]
  },
  {
   "cell_type": "code",
   "execution_count": 97,
   "metadata": {},
   "outputs": [
    {
     "data": {
      "text/plain": [
       "{'fit_time': array([7.57776976, 9.26276588, 8.24110508, 8.07754803, 9.06356263,\n",
       "        8.39206696, 8.3101356 , 7.84580088, 8.14293957, 8.72884512]),\n",
       " 'score_time': array([0.02848577, 0.02585292, 0.03239775, 0.05104733, 0.03436732,\n",
       "        0.02762389, 0.03048396, 0.03248596, 0.03738403, 0.03512716]),\n",
       " 'test_accuracy': array([0.99115044, 0.98672566, 0.99778761, 0.93141593, 0.93584071,\n",
       "        0.93584071, 0.88888889, 0.94222222, 0.96444444, 0.97777778]),\n",
       " 'test_f1_score': array([0.99107143, 0.98666667, 0.99778271, 0.93446089, 0.93894737,\n",
       "        0.93920335, 0.89711934, 0.94347826, 0.96521739, 0.97807018]),\n",
       " 'test_precision_score': array([1.        , 0.99107143, 1.        , 0.89473684, 0.89558233,\n",
       "        0.89243028, 0.83524904, 0.92340426, 0.94468085, 0.96536797]),\n",
       " 'test_recall_score': array([0.98230088, 0.98230088, 0.99557522, 0.97787611, 0.98672566,\n",
       "        0.99115044, 0.96888889, 0.96444444, 0.98666667, 0.99111111]),\n",
       " 'test_roc_auc_score': array([0.99115044, 0.98672566, 0.99778761, 0.93141593, 0.93584071,\n",
       "        0.93584071, 0.88888889, 0.94222222, 0.96444444, 0.97777778]),\n",
       " 'test_matthews_corrcoef': array([0.98245478, 0.97348945, 0.99558497, 0.86658108, 0.87623084,\n",
       "        0.8770641 , 0.78792865, 0.88531927, 0.92980767, 0.95589549]),\n",
       " 'test_hinge_loss': array([0.50884956, 0.51327434, 0.50221239, 0.56858407, 0.56415929,\n",
       "        0.56415929, 0.61111111, 0.55777778, 0.53555556, 0.52222222])}"
      ]
     },
     "execution_count": 97,
     "metadata": {},
     "output_type": "execute_result"
    }
   ],
   "source": [
    "MLP = MLPClassifier(hidden_layer_sizes=(100,),activation='logistic',solver='adam',learning_rate='constant',power_t=0.5,max_iter=500)\n",
    "score_cv(MLP)"
   ]
  },
  {
   "cell_type": "code",
   "execution_count": null,
   "metadata": {},
   "outputs": [],
   "source": [
    "SuV = SVC(C=1.0, kernel='linear', degree=3, gamma='auto_deprecated', coef0=0.0, shrinking=True, probability=False, tol=0.001, cache_size=200, class_weight=None, verbose=False, max_iter=-1, decision_function_shape='ovr')\n",
    "score_cv(SuV)"
   ]
  },
  {
   "cell_type": "code",
   "execution_count": null,
   "metadata": {},
   "outputs": [],
   "source": []
  }
 ],
 "metadata": {
  "kernelspec": {
   "display_name": "Python 3",
   "language": "python",
   "name": "python3"
  },
  "language_info": {
   "codemirror_mode": {
    "name": "ipython",
    "version": 3
   },
   "file_extension": ".py",
   "mimetype": "text/x-python",
   "name": "python",
   "nbconvert_exporter": "python",
   "pygments_lexer": "ipython3",
   "version": "3.7.0"
  }
 },
 "nbformat": 4,
 "nbformat_minor": 2
}
